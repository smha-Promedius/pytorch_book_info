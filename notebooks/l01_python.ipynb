{
 "cells": [
  {
   "cell_type": "markdown",
   "metadata": {
    "id": "8PrD4L_92-EM"
   },
   "source": [
    "## 부록1. 파이썬 입문"
   ]
  },
  {
   "cell_type": "markdown",
   "metadata": {
    "id": "PyYQrUX82-EP"
   },
   "source": [
    "#### 기본형"
   ]
  },
  {
   "cell_type": "code",
   "execution_count": null,
   "metadata": {
    "id": "ck6vpPgO2-EQ"
   },
   "outputs": [],
   "source": [
    "# 정수형\n",
    "# 수치 표현이 정수인 경우, 이를 대입한 변수는 자동으로 정수형이 됨\n",
    "a = 1\n",
    "\n",
    "# 부동소수점 수형\n",
    "# 수치 표현에 소수점이 포함되면, 이를 대입한 변수는 자동적으로 부동소수점 수형이 됨\n",
    "b = 2.0\n",
    "\n",
    "# 문자열형\n",
    "# 문자열은 싱글 쿼트(')로 감싸서 표현함\n",
    "# 또는 더블 쿼트(\")로 감싸도 상관 없음\n",
    "c = 'abc'\n",
    "\n",
    "# 논리형\n",
    "# True 또는 False 중 하나를 취하는 변수형\n",
    "d = True"
   ]
  },
  {
   "cell_type": "markdown",
   "metadata": {
    "id": "47rgVwXz2-EY"
   },
   "source": [
    "#### print 함수와 type 함수"
   ]
  },
  {
   "cell_type": "code",
   "execution_count": null,
   "metadata": {
    "id": "wPuoMzM42-EY"
   },
   "outputs": [],
   "source": [
    "# 정수형 변수 a의 값과 형\n",
    "print(a)\n",
    "print(type(a))"
   ]
  },
  {
   "cell_type": "code",
   "execution_count": null,
   "metadata": {
    "id": "cIu3RkVY2-Ef"
   },
   "outputs": [],
   "source": [
    "# 부동소수점 수형 변수 b의 값과 형\n",
    "print(b)\n",
    "print(type(b))"
   ]
  },
  {
   "cell_type": "code",
   "execution_count": null,
   "metadata": {
    "id": "cDyOLlVE2-Ep"
   },
   "outputs": [],
   "source": [
    "# 문자열형 변수 c의 값과 형\n",
    "print(c)\n",
    "print(type(c))"
   ]
  },
  {
   "cell_type": "code",
   "execution_count": null,
   "metadata": {
    "id": "-eCkBPUd2-Ez"
   },
   "outputs": [],
   "source": [
    "# 논리형 변수 d의 값과 형\n",
    "print(d)\n",
    "print(type(d))"
   ]
  },
  {
   "cell_type": "markdown",
   "metadata": {
    "id": "HMcMwYOc2-E7"
   },
   "source": [
    "#### 리스트"
   ]
  },
  {
   "cell_type": "code",
   "execution_count": null,
   "metadata": {
    "id": "yrRfmqkD2-E8"
   },
   "outputs": [],
   "source": [
    "# 리스트의 정의\n",
    "l = [1, 2, 3, 5, 8, 13]\n",
    "\n",
    "# リストの値とtype\n",
    "print(l)\n",
    "print(type(l))"
   ]
  },
  {
   "cell_type": "markdown",
   "metadata": {
    "id": "Hn9AiARl2-FH"
   },
   "source": [
    "#### リストの要素数"
   ]
  },
  {
   "cell_type": "code",
   "execution_count": null,
   "metadata": {
    "id": "BRJXtFFQ2-FI"
   },
   "outputs": [],
   "source": [
    "# リストの要素数\n",
    "print(len(l))"
   ]
  },
  {
   "cell_type": "markdown",
   "metadata": {
    "id": "HwysVIUG2-FV"
   },
   "source": [
    "#### リストの要素参照"
   ]
  },
  {
   "cell_type": "code",
   "execution_count": null,
   "metadata": {
    "id": "DK2_14rD2-FV"
   },
   "outputs": [],
   "source": [
    "# リストの要素参照\n",
    "\n",
    "# 最初の要素\n",
    "print(l[0])\n",
    "\n",
    "# 3番目の要素\n",
    "print(l[2])\n",
    "\n",
    "# 最後の要素 (こういう指定方法も可能)\n",
    "print(l[-1])"
   ]
  },
  {
   "cell_type": "markdown",
   "metadata": {
    "id": "gQLlKCZgEMLI"
   },
   "source": [
    "#### 部分リスト参照1"
   ]
  },
  {
   "cell_type": "code",
   "execution_count": null,
   "metadata": {
    "id": "8RYCaj51EMLJ"
   },
   "outputs": [],
   "source": [
    "# 部分リスト インデックス:2以上 インデックス: 5未満\n",
    "print(l[2:5])\n",
    "\n",
    "# 部分リスト インデックス:0以上 インデックス: 3未満\n",
    "print(l[0:3])\n",
    "\n",
    "# 開始インデックスが0の場合は省略可\n",
    "print(l[:3])"
   ]
  },
  {
   "cell_type": "markdown",
   "metadata": {
    "id": "vYfz451iEMLJ"
   },
   "source": [
    "#### 部分リスト参照2"
   ]
  },
  {
   "cell_type": "code",
   "execution_count": null,
   "metadata": {
    "id": "gteronENEMLJ"
   },
   "outputs": [],
   "source": [
    "# 部分リスト インデックス:4以上最後まで\n",
    "# リストの長さを求める\n",
    "n = len(l) \n",
    "print(l[4:n])\n",
    "\n",
    "# 最終インデックスが最終要素の場合は省略可\n",
    "print(l[4:])\n",
    "\n",
    "# 後ろから2つ\n",
    "print(l[-2:])\n",
    "\n",
    "#最初も最後も省略するとリスト全体になる\n",
    "print(l[:])"
   ]
  },
  {
   "cell_type": "markdown",
   "metadata": {
    "id": "0BcEDGw52-Fg"
   },
   "source": [
    "#### タプル"
   ]
  },
  {
   "cell_type": "code",
   "execution_count": null,
   "metadata": {
    "id": "clsh-h9U2-Fj"
   },
   "outputs": [],
   "source": [
    "# タプルの定義\n",
    "t = (1, 2, 3, 5, 8, 13)\n",
    "\n",
    "# タプルの値表示\n",
    "print(t)\n",
    "\n",
    "# タプルの型表示\n",
    "print(type(t))\n",
    "\n",
    "# タプルの要素数\n",
    "print(len(t))\n",
    "\n",
    "# タプルの要素参照\n",
    "print(t[1])"
   ]
  },
  {
   "cell_type": "code",
   "execution_count": null,
   "metadata": {
    "id": "Ab5jH3-B2-Fn"
   },
   "outputs": [],
   "source": [
    "t[1] = 1"
   ]
  },
  {
   "cell_type": "code",
   "execution_count": null,
   "metadata": {
    "id": "0H7QX-AS2-Fq"
   },
   "outputs": [],
   "source": [
    "x = 1\n",
    "y = 2\n",
    "z = (x, y)\n",
    "print(type(z))"
   ]
  },
  {
   "cell_type": "code",
   "execution_count": null,
   "metadata": {
    "id": "U3hYst__2-Ft"
   },
   "outputs": [],
   "source": [
    "a, b = z\n",
    "print(a)\n",
    "print(b)"
   ]
  },
  {
   "cell_type": "markdown",
   "metadata": {
    "id": "vWpZdRag2-GJ"
   },
   "source": [
    "### 辞書"
   ]
  },
  {
   "cell_type": "markdown",
   "metadata": {
    "id": "qKh9XKnF2-GK"
   },
   "source": [
    "#### 辞書の定義"
   ]
  },
  {
   "cell_type": "code",
   "execution_count": null,
   "metadata": {
    "id": "2jPrrpfP2-GK"
   },
   "outputs": [],
   "source": [
    "# 辞書の定義\n",
    "my_dict = {'yes': 1, 'no': 0}\n",
    "\n",
    "# print文の結果\n",
    "print(my_dict)\n",
    "\n",
    "# type関数の結果\n",
    "print(type(my_dict))"
   ]
  },
  {
   "cell_type": "markdown",
   "metadata": {
    "id": "toUV79K72-GR"
   },
   "source": [
    "#### 辞書の参照"
   ]
  },
  {
   "cell_type": "code",
   "execution_count": null,
   "metadata": {
    "id": "20DLuIRv2-GS"
   },
   "outputs": [],
   "source": [
    "# キーから値を参照\n",
    "\n",
    "# key= 'yes'で検索\n",
    "value1 = my_dict['yes']\n",
    "print(value1)\n",
    "\n",
    "# key='no'で検索\n",
    "value2 = my_dict['no']\n",
    "print(value2)"
   ]
  },
  {
   "cell_type": "markdown",
   "metadata": {
    "id": "ePA6aK2I2-GV"
   },
   "source": [
    "#### 辞書への項目追加"
   ]
  },
  {
   "cell_type": "code",
   "execution_count": null,
   "metadata": {
    "id": "nCsydOXH2-GW"
   },
   "outputs": [],
   "source": [
    "# 辞書への項目追加\n",
    "my_dict['neutral'] = 2\n",
    "\n",
    "# 結果確認\n",
    "print(my_dict)"
   ]
  },
  {
   "cell_type": "markdown",
   "metadata": {
    "id": "7A6JEafr2-Ga"
   },
   "source": [
    "### 制御構造"
   ]
  },
  {
   "cell_type": "markdown",
   "metadata": {
    "id": "83WIdtTd2-Ga"
   },
   "source": [
    "#### ループ処理"
   ]
  },
  {
   "cell_type": "code",
   "execution_count": null,
   "metadata": {
    "id": "5SqhNLCZ2-Gb"
   },
   "outputs": [],
   "source": [
    "# ループ処理\n",
    "\n",
    "# リストの定義\n",
    "list4 = ['One', 'Two', 'Three', 'Four']\n",
    "\n",
    "# ループ処理\n",
    "for item in list4:\n",
    "    print(item)"
   ]
  },
  {
   "cell_type": "code",
   "execution_count": null,
   "metadata": {
    "id": "t-lTQuz22-Gh"
   },
   "outputs": [],
   "source": [
    "# range関数を使ったループ処理\n",
    "\n",
    "for item in range(4):\n",
    "    print(item)"
   ]
  },
  {
   "cell_type": "code",
   "execution_count": null,
   "metadata": {
    "id": "QkzvKe852-Gl"
   },
   "outputs": [],
   "source": [
    "# 引数2つのrange関数\n",
    "\n",
    "for item in range(1, 5):\n",
    "    print(item)"
   ]
  },
  {
   "cell_type": "code",
   "execution_count": null,
   "metadata": {
    "id": "OLqB-ql82-Gq"
   },
   "outputs": [],
   "source": [
    "# 辞書とループ処理\n",
    "\n",
    "# items関数\n",
    "print(my_dict.items())\n",
    "\n",
    "# items関数を使ったループ処理\n",
    "\n",
    "for key, value in my_dict.items():\n",
    "    print(key, ':', value )"
   ]
  },
  {
   "cell_type": "markdown",
   "metadata": {
    "id": "Lh4fff352-Gt"
   },
   "source": [
    "#### if文"
   ]
  },
  {
   "cell_type": "code",
   "execution_count": null,
   "metadata": {
    "id": "Zol5399N2-Gt"
   },
   "outputs": [],
   "source": [
    "# if文のサンプル\n",
    "for i in range(1, 5):\n",
    "    if i % 2 == 0:\n",
    "        print(i, 'は偶数です')\n",
    "    else:\n",
    "        print(i, 'は奇数です')"
   ]
  },
  {
   "cell_type": "markdown",
   "metadata": {
    "id": "fIXxsX3Y2-G5"
   },
   "source": [
    "####  関数"
   ]
  },
  {
   "cell_type": "code",
   "execution_count": null,
   "metadata": {
    "id": "WKW7xi332-G5"
   },
   "outputs": [],
   "source": [
    "# 関数の定義例1\n",
    "def square(x):\n",
    "    p2 = x * x\n",
    "    return p2\n",
    "\n",
    "# 関数の呼び出し例1\n",
    "x1 = 13\n",
    "r1 = square(x1)\n",
    "print(x1, r1)"
   ]
  },
  {
   "cell_type": "code",
   "execution_count": null,
   "metadata": {
    "id": "EnWVLp8o2-G_"
   },
   "outputs": [],
   "source": [
    "#  関数の定義例2\n",
    "def squares(x):\n",
    "    p2 = x * x\n",
    "    p3= x * x * x\n",
    "    return (p2, p3)\n",
    "\n",
    "# 関数の呼び出し例2\n",
    "x1 = 13\n",
    "p2, p3 = squares(x1)\n",
    "print(x1, p2, p3)"
   ]
  },
  {
   "cell_type": "markdown",
   "metadata": {
    "id": "-lBmLd-D2-HC"
   },
   "source": [
    "#### ライプラリの導入"
   ]
  },
  {
   "cell_type": "code",
   "execution_count": null,
   "metadata": {
    "id": "coRwycFH2-HD"
   },
   "outputs": [],
   "source": [
    "# 日本語化ライブラリ導入\n",
    "!pip install japanize-matplotlib | tail -n 1"
   ]
  },
  {
   "cell_type": "markdown",
   "metadata": {
    "id": "pIlNIJ5b2-HF"
   },
   "source": [
    "#### import文"
   ]
  },
  {
   "cell_type": "code",
   "execution_count": null,
   "metadata": {
    "id": "4256qlzn2-HG"
   },
   "outputs": [],
   "source": [
    "# 必要ライブラリのimport\n",
    "import pandas as pd\n",
    "import numpy as np\n",
    "import matplotlib.pyplot as plt\n",
    "\n",
    "# matplotlib日本語化対応\n",
    "import japanize_matplotlib\n",
    "\n",
    "# データフレーム表示用関数\n",
    "from IPython.display import display"
   ]
  },
  {
   "cell_type": "markdown",
   "metadata": {
    "id": "HwEohvnZ2-HT"
   },
   "source": [
    "#### ワーニング非表示"
   ]
  },
  {
   "cell_type": "code",
   "execution_count": null,
   "metadata": {
    "id": "dBVuCfby2-HT"
   },
   "outputs": [],
   "source": [
    "# 余分なワーニングを非表示にする\n",
    "import warnings\n",
    "warnings.filterwarnings('ignore')"
   ]
  },
  {
   "cell_type": "markdown",
   "metadata": {
    "id": "sBjLfxG02-HY"
   },
   "source": [
    "#### 数値の整形表示"
   ]
  },
  {
   "cell_type": "code",
   "execution_count": null,
   "metadata": {
    "id": "kRbJQtIu2-HZ"
   },
   "outputs": [],
   "source": [
    "# f文字列の表示\n",
    "a1 = 1.0/7.0\n",
    "a2 = 123\n",
    "\n",
    "str1 = f'a1 = {a1}   a2 = {a2}'\n",
    "print(str1)"
   ]
  },
  {
   "cell_type": "code",
   "execution_count": null,
   "metadata": {
    "id": "U-J22Vwg2-Hc"
   },
   "outputs": [],
   "source": [
    "# f文字列の詳細オプション\n",
    "\n",
    "# .4f 小数点以下4桁の固定小数点表示\n",
    "# 04 整数を0詰め4桁表示\n",
    "str2 = f'a1 = {a1:.4f}  a2 = {a2:04}'\n",
    "print(str2)\n",
    "\n",
    "# 04e 小数点以下4桁の浮動小数点表示\n",
    "# #x 整数の16進数表示\n",
    "str3 = f'a1 = {a1:.04e}  a2 = {a2:#x}'\n",
    "print(str3)"
   ]
  },
  {
   "cell_type": "code",
   "execution_count": null,
   "metadata": {
    "id": "6fN1g2E42-Hj"
   },
   "outputs": [],
   "source": []
  }
 ],
 "metadata": {
  "colab": {
   "collapsed_sections": [],
   "name": "l01_python.ipynb",
   "provenance": [],
   "toc_visible": true
  },
  "kernelspec": {
   "display_name": "Python 3",
   "language": "python",
   "name": "python3"
  },
  "language_info": {
   "codemirror_mode": {
    "name": "ipython",
    "version": 3
   },
   "file_extension": ".py",
   "mimetype": "text/x-python",
   "name": "python",
   "nbconvert_exporter": "python",
   "pygments_lexer": "ipython3",
   "version": "3.8.8"
  }
 },
 "nbformat": 4,
 "nbformat_minor": 1
}
