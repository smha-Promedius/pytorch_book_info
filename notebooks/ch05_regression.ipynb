{
  "nbformat": 4,
  "nbformat_minor": 0,
  "metadata": {
    "colab": {
      "name": "ch05_regression.ipynb",
      "provenance": [],
      "collapsed_sections": [],
      "toc_visible": true
    },
    "kernelspec": {
      "display_name": "Python 3",
      "language": "python",
      "name": "python3"
    },
    "language_info": {
      "codemirror_mode": {
        "name": "ipython",
        "version": 3
      },
      "file_extension": ".py",
      "mimetype": "text/x-python",
      "name": "python",
      "nbconvert_exporter": "python",
      "pygments_lexer": "ipython3",
      "version": "3.8.5"
    }
  },
  "cells": [
    {
      "cell_type": "markdown",
      "metadata": {
        "id": "FXGXzQQSZhqU"
      },
      "source": [
        "# 5章　線形回帰"
      ]
    },
    {
      "cell_type": "code",
      "metadata": {
        "id": "ID01O-IvXpCi"
      },
      "source": [
        "# 必要ライブラリの導入\n",
        "\n",
        "!pip install japanize_matplotlib | tail -n 1\n",
        "!pip install torchviz | tail -n 1\n",
        "!pip install torchinfo | tail -n 1"
      ],
      "execution_count": null,
      "outputs": []
    },
    {
      "cell_type": "code",
      "metadata": {
        "id": "9BuGuNS4XpCk"
      },
      "source": [
        "# 必要ライブラリのインポート\n",
        "\n",
        "%matplotlib inline\n",
        "import numpy as np\n",
        "import matplotlib.pyplot as plt\n",
        "import japanize_matplotlib\n",
        "from IPython.display import display"
      ],
      "execution_count": null,
      "outputs": []
    },
    {
      "cell_type": "code",
      "metadata": {
        "id": "nFqLX4N-XpCk"
      },
      "source": [
        "import torch\n",
        "import torch.nn as nn\n",
        "import torch.optim as optim\n",
        "from torchviz import make_dot"
      ],
      "execution_count": null,
      "outputs": []
    },
    {
      "cell_type": "code",
      "metadata": {
        "id": "EWZHxbB1XpCl"
      },
      "source": [
        "# デフォルトフォントサイズ変更\n",
        "plt.rcParams['font.size'] = 14\n",
        "\n",
        "# デフォルトグラフサイズ変更\n",
        "plt.rcParams['figure.figsize'] = (6,6)\n",
        "\n",
        "# デフォルトで方眼表示ON\n",
        "plt.rcParams['axes.grid'] = True\n",
        "\n",
        "# numpyの浮動小数点の表示精度\n",
        "np.set_printoptions(suppress=True, precision=4)"
      ],
      "execution_count": null,
      "outputs": []
    },
    {
      "cell_type": "markdown",
      "metadata": {
        "id": "aL-55tM8XpCl"
      },
      "source": [
        "## 5.3 線形関数(nn.Linear)"
      ]
    },
    {
      "cell_type": "markdown",
      "metadata": {
        "id": "RyH3OPekXpCl"
      },
      "source": [
        "###  入力:1 出力:1 の線形関数"
      ]
    },
    {
      "cell_type": "code",
      "metadata": {
        "id": "lzycf0HxXpCm"
      },
      "source": [
        "# 乱数の種固定\n",
        "torch.manual_seed(123)\n",
        "\n",
        "# 入力:1 出力:1 の線形関数の定義\n",
        "l1 = nn.Linear(1, 1)\n",
        "\n",
        "# 線形関数の表示\n",
        "print(l1)"
      ],
      "execution_count": null,
      "outputs": []
    },
    {
      "cell_type": "code",
      "metadata": {
        "id": "pSvee2CeXpCm"
      },
      "source": [
        "# パラメータ名、パラメータ値、shapeの表示\n",
        "\n",
        "for param in l1.named_parameters():\n",
        "    print('name: ', param[0])\n",
        "    print('tensor: ', param[1])\n",
        "    print('shape: ', param[1].shape)"
      ],
      "execution_count": null,
      "outputs": []
    },
    {
      "cell_type": "code",
      "metadata": {
        "id": "LKYmasnBXpCn"
      },
      "source": [
        "# 初期値設定\n",
        "nn.init.constant_(l1.weight, 2.0)\n",
        "nn.init.constant_(l1.bias, 1.0)\n",
        "\n",
        "# 結果確認\n",
        "print(l1.weight)\n",
        "print(l1.bias)"
      ],
      "execution_count": null,
      "outputs": []
    },
    {
      "cell_type": "code",
      "metadata": {
        "id": "UZNxp3fYXpCn"
      },
      "source": [
        "# テスト用データ生成\n",
        "\n",
        "# x_npをnumpy配列で定義\n",
        "x_np = np.arange(-2, 2.1, 1)\n",
        "\n",
        "# Tensor化\n",
        "x = torch.tensor(x_np).float()\n",
        "\n",
        "# サイズを(N,1)に変更\n",
        "x = x.view(-1,1)\n",
        "\n",
        "# 結果確認\n",
        "print(x.shape)\n",
        "print(x)"
      ],
      "execution_count": null,
      "outputs": []
    },
    {
      "cell_type": "code",
      "metadata": {
        "id": "2De8gINFXpCo"
      },
      "source": [
        "# 1次関数のテスト\n",
        "\n",
        "y = l1(x)\n",
        "\n",
        "print(y.shape)\n",
        "print(y.data)"
      ],
      "execution_count": null,
      "outputs": []
    },
    {
      "cell_type": "markdown",
      "metadata": {
        "id": "d0csbLg9XpCo"
      },
      "source": [
        "### 入力:2 出力:1 の線形関数"
      ]
    },
    {
      "cell_type": "code",
      "metadata": {
        "id": "VyebhECaXpCp"
      },
      "source": [
        "# 入力:2 出力:1 の線形関数の定義\n",
        "l2 = nn.Linear(2, 1)\n",
        "\n",
        "# 初期値設定\n",
        "nn.init.constant_(l2.weight, 1.0)\n",
        "nn.init.constant_(l2.bias, 2.0)\n",
        "\n",
        "# 結果確認\n",
        "print(l2.weight)\n",
        "print(l2.bias)"
      ],
      "execution_count": null,
      "outputs": []
    },
    {
      "cell_type": "code",
      "metadata": {
        "id": "S1yCAOCcXpCp"
      },
      "source": [
        "# 2次元numpy配列\n",
        "x2_np = np.array([[0, 0], [0, 1], [1, 0], [1,1]])\n",
        "\n",
        "# Tensor化\n",
        "x2 =  torch.tensor(x2_np).float()\n",
        "\n",
        "# 結果確認\n",
        "print(x2.shape)\n",
        "print(x2)"
      ],
      "execution_count": null,
      "outputs": []
    },
    {
      "cell_type": "code",
      "metadata": {
        "id": "bZ3OsIWJXpCp"
      },
      "source": [
        "\n",
        "# 関数値計算\n",
        "y2 = l2(x2)\n",
        "\n",
        "# shape確認\n",
        "print(y2.shape)\n",
        "\n",
        "# 値確認\n",
        "print(y2.data)"
      ],
      "execution_count": null,
      "outputs": []
    },
    {
      "cell_type": "markdown",
      "metadata": {
        "id": "53Ae8ANsXpCq"
      },
      "source": [
        "### 入力:2 出力:3 の線形関数"
      ]
    },
    {
      "cell_type": "code",
      "metadata": {
        "id": "o5xGgx2kXpCq"
      },
      "source": [
        "# 入力:2 出力:3 の線形関数の定義\n",
        "\n",
        "l3 = nn.Linear(2, 3)\n",
        "\n",
        "# 初期値設定\n",
        "nn.init.constant_(l3.weight[0,:], 1.0)\n",
        "nn.init.constant_(l3.weight[1,:], 2.0)\n",
        "nn.init.constant_(l3.weight[2,:], 3.0)\n",
        "nn.init.constant_(l3.bias, 2.0)\n",
        "\n",
        "# 結果確認\n",
        "print(l3.weight)\n",
        "print(l3.bias)"
      ],
      "execution_count": null,
      "outputs": []
    },
    {
      "cell_type": "code",
      "metadata": {
        "id": "rL6qApqTXpCq"
      },
      "source": [
        "# 関数値計算\n",
        "y3 = l3(x2)\n",
        "\n",
        "# shape確認\n",
        "print(y3.shape)\n",
        "\n",
        "# 値確認\n",
        "print(y3.data)"
      ],
      "execution_count": null,
      "outputs": []
    },
    {
      "cell_type": "markdown",
      "metadata": {
        "id": "6Qy6LqOfRT0E"
      },
      "source": [
        "## 5.4 カスタムクラスを利用したモデル定義"
      ]
    },
    {
      "cell_type": "code",
      "metadata": {
        "id": "3bcQHUdyXpCt"
      },
      "source": [
        "# モデルのクラス定義\n",
        "\n",
        "class Net(nn.Module):\n",
        "    def __init__(self, n_input, n_output):\n",
        "        #  親クラスnn.Modulesの初期化呼び出し\n",
        "        super().__init__()\n",
        "\n",
        "        # 出力層の定義\n",
        "        self.l1 = nn.Linear(n_input, n_output)   \n",
        "        \n",
        "    # 予測関数の定義\n",
        "    def forward(self, x):\n",
        "        x1 = self.l1(x) # 線形回帰\n",
        "        return x1"
      ],
      "execution_count": null,
      "outputs": []
    },
    {
      "cell_type": "code",
      "metadata": {
        "id": "5FLHS8bvXpCt"
      },
      "source": [
        "# ダミー入力\n",
        "inputs = torch.ones(100,1)\n",
        "\n",
        "# インスタンスの生成 (１入力1出力の線形モデル)\n",
        "n_input = 1\n",
        "n_output = 1\n",
        "net = Net(n_input, n_output)\n",
        "\n",
        "# 予測\n",
        "outputs = net(inputs)"
      ],
      "execution_count": null,
      "outputs": []
    },
    {
      "cell_type": "markdown",
      "metadata": {
        "id": "KFmZjNAlXpCr"
      },
      "source": [
        "\n",
        "## 5.6 データ準備\n",
        "UCI公開データセットのうち、回帰でよく使われる「ボストン・データセット」を用いる。  \n",
        "\n",
        "https://www.cs.toronto.edu/~delve/data/boston/bostonDetail.html\n",
        "\n",
        "オリジナルのデーセットは、17項目の入力値から、不動産価格を予測する目的のものだが、\n",
        "一番単純な「単回帰モデル」(1入力)のモデルを作るため、このうち``RM``の1項目だけを抽出する。\n"
      ]
    },
    {
      "cell_type": "code",
      "metadata": {
        "id": "nArbZhfCaWLF"
      },
      "source": [
        "# 学習用データ準備\n",
        "\n",
        "# ライブラリのインポート\n",
        "from sklearn.datasets import load_boston\n",
        "\n",
        "# データ読み込み\n",
        "boston = load_boston()\n",
        "\n",
        "# 入力データと正解データ取得\n",
        "x_org, yt = boston.data, boston.target\n",
        "\n",
        "# 項目名リスト取得\n",
        "feature_names = boston.feature_names\n",
        "\n",
        "# 結果確認\n",
        "print('元データ', x_org.shape, yt.shape)\n",
        "print('項目名: ', feature_names)"
      ],
      "execution_count": null,
      "outputs": []
    },
    {
      "cell_type": "code",
      "metadata": {
        "id": "ro0A3LlSXpCs"
      },
      "source": [
        "# データ絞り込み (項目 RMのみ)\n",
        "x = x_org[:,feature_names == 'RM']\n",
        "print('絞り込み後', x.shape)\n",
        "print(x[:5,:])\n",
        "\n",
        "# 正解データ yの表示\n",
        "print('正解データ')\n",
        "print(yt[:5])"
      ],
      "execution_count": null,
      "outputs": []
    },
    {
      "cell_type": "code",
      "metadata": {
        "id": "DvwFf3Taa-1O"
      },
      "source": [
        "# 散布図の表示\n",
        "\n",
        "plt.scatter(x, yt, s=10, c='b')\n",
        "plt.xlabel('部屋数')\n",
        "plt.ylabel('価格')\n",
        "plt.title('部屋数と価格の散布図')\n",
        "plt.show()"
      ],
      "execution_count": null,
      "outputs": []
    },
    {
      "cell_type": "markdown",
      "metadata": {
        "id": "Pv-YMbfwXpCs"
      },
      "source": [
        "## 5.7 モデル定義"
      ]
    },
    {
      "cell_type": "code",
      "metadata": {
        "id": "UG4aJY0YbHO7"
      },
      "source": [
        "# 変数定義\n",
        "\n",
        "# 入力次元数\n",
        "n_input= x.shape[1]\n",
        "\n",
        "# 出力次元数\n",
        "n_output = 1\n",
        "\n",
        "print(f'入力次元数: {n_input}  出力次元数: {n_output}')"
      ],
      "execution_count": null,
      "outputs": []
    },
    {
      "cell_type": "code",
      "metadata": {
        "id": "Qa_cV8urbs9s"
      },
      "source": [
        "# 機械学習モデル（予測モデル）クラス定義\n",
        "\n",
        "class Net(nn.Module):\n",
        "    def __init__(self, n_input, n_output):\n",
        "        #  親クラスnn.Modulesの初期化呼び出し\n",
        "        super().__init__()\n",
        "\n",
        "        # 出力層の定義\n",
        "        self.l1 = nn.Linear(n_input, n_output)   \n",
        "        \n",
        "        # 初期値を全部1にする\n",
        "        # 「ディープラーニングの数学」と条件を合わせる目的\n",
        "        nn.init.constant_(self.l1.weight, 1.0)\n",
        "        nn.init.constant_(self.l1.bias, 1.0)\n",
        "\n",
        "    # 予測関数の定義\n",
        "    def forward(self, x):\n",
        "        x1 = self.l1(x) # 線形回帰\n",
        "        return x1"
      ],
      "execution_count": null,
      "outputs": []
    },
    {
      "cell_type": "code",
      "metadata": {
        "id": "wQ4TtPGQkWql"
      },
      "source": [
        "# インスタンスの生成\n",
        "# １入力1出力の線形モデル\n",
        "\n",
        "net = Net(n_input, n_output)"
      ],
      "execution_count": null,
      "outputs": []
    },
    {
      "cell_type": "code",
      "metadata": {
        "id": "bFf1N0HsXpCu"
      },
      "source": [
        "# モデル内のパラメータの確認\n",
        "# モデル内の変数取得にはnamed_parameters関数を利用する\n",
        "# 結果の第1要素が名前、第2要素が値\n",
        "# \n",
        "# predict.weightとpredict.biasがあることがわかる\n",
        "# 初期値はどちらも1.0になっている\n",
        "\n",
        "for parameter in net.named_parameters():\n",
        "    print(f'変数名: {parameter[0]}')\n",
        "    print(f'変数値: {parameter[1].data}')"
      ],
      "execution_count": null,
      "outputs": []
    },
    {
      "cell_type": "code",
      "metadata": {
        "id": "RjHjfAf7XpCu"
      },
      "source": [
        "# パラメータのリスト取得にはparameters関数を利用する\n",
        "\n",
        "for parameter in net.parameters():\n",
        "    print(parameter)"
      ],
      "execution_count": null,
      "outputs": []
    },
    {
      "cell_type": "markdown",
      "metadata": {
        "id": "LTqxnIJaXpCv"
      },
      "source": [
        "### モデル確認"
      ]
    },
    {
      "cell_type": "code",
      "metadata": {
        "id": "_zaPgb2td6vV"
      },
      "source": [
        "# モデルの概要表示\n",
        "\n",
        "print(net)"
      ],
      "execution_count": null,
      "outputs": []
    },
    {
      "cell_type": "code",
      "metadata": {
        "id": "uWXVbu0leJgB"
      },
      "source": [
        "# モデルのサマリー表示\n",
        "\n",
        "from torchinfo import summary\n",
        "summary(net, (1,))"
      ],
      "execution_count": null,
      "outputs": []
    },
    {
      "cell_type": "markdown",
      "metadata": {
        "id": "aSx3Ha0cXpCv"
      },
      "source": [
        "### 損失関数と最適化関数"
      ]
    },
    {
      "cell_type": "code",
      "metadata": {
        "id": "_-8Dq5hWfeoB"
      },
      "source": [
        "# 損失関数： 平均2乗誤差\n",
        "criterion = nn.MSELoss()\n",
        "\n",
        "# 学習率\n",
        "lr = 0.01\n",
        "\n",
        "# 最適化関数: 勾配降下法\n",
        "optimizer = optim.SGD(net.parameters(), lr=lr)\n"
      ],
      "execution_count": null,
      "outputs": []
    },
    {
      "cell_type": "markdown",
      "metadata": {
        "id": "7FXFabMEXpCw"
      },
      "source": [
        "## 5.8 勾配降下法"
      ]
    },
    {
      "cell_type": "code",
      "metadata": {
        "id": "-hiUPe-uXpCw"
      },
      "source": [
        "# 入力変数x と正解値 ytのテンソル変数化\n",
        "\n",
        "inputs = torch.tensor(x).float()\n",
        "labels = torch.tensor(yt).float()\n",
        "\n",
        "# 次元数確認\n",
        "\n",
        "print(inputs.shape)\n",
        "print(labels.shape)"
      ],
      "execution_count": null,
      "outputs": []
    },
    {
      "cell_type": "code",
      "metadata": {
        "id": "0iRTGvM4XpCw"
      },
      "source": [
        "# 損失値計算用にlabels変数を(N,1)次元の行列に変換する\n",
        "\n",
        "labels1 = labels.view((-1, 1))\n",
        "\n",
        "# 次元数確認\n",
        "print(labels1.shape)"
      ],
      "execution_count": null,
      "outputs": []
    },
    {
      "cell_type": "code",
      "metadata": {
        "id": "foVlKfQ5XpCw"
      },
      "source": [
        "# 予測計算\n",
        "\n",
        "outputs = net(inputs)"
      ],
      "execution_count": null,
      "outputs": []
    },
    {
      "cell_type": "code",
      "metadata": {
        "id": "frF6g1MhXpCx"
      },
      "source": [
        "\n",
        "#  損失計算\n",
        "loss = criterion(outputs, labels1)\n",
        "\n",
        "# 損失値の取得\n",
        "print(f'{loss.item():.5f}')"
      ],
      "execution_count": null,
      "outputs": []
    },
    {
      "cell_type": "code",
      "metadata": {
        "id": "bHjWn0NfXpCx"
      },
      "source": [
        "\n",
        "# 損失の計算グラフ可視化\n",
        "\n",
        "g = make_dot(loss, params=dict(net.named_parameters()))\n",
        "display(g)"
      ],
      "execution_count": null,
      "outputs": []
    },
    {
      "cell_type": "code",
      "metadata": {
        "id": "j6IUY2obXpCx"
      },
      "source": [
        "# 予測計算\n",
        "outputs = net(inputs)\n",
        "\n",
        "#  損失計算\n",
        "loss = criterion(outputs, labels1)\n",
        "\n",
        "# 勾配計算\n",
        "loss.backward()\n",
        "\n",
        "# 勾配の結果が取得可能に\n",
        "print(net.l1.weight.grad)\n",
        "print(net.l1.bias.grad)"
      ],
      "execution_count": null,
      "outputs": []
    },
    {
      "cell_type": "code",
      "metadata": {
        "id": "SMwYMMXAXpCy"
      },
      "source": [
        "# パラメータ修正\n",
        "optimizer.step()\n",
        "\n",
        "# パラメータ値が変わる\n",
        "print(net.l1.weight)\n",
        "print(net.l1.bias)"
      ],
      "execution_count": null,
      "outputs": []
    },
    {
      "cell_type": "code",
      "metadata": {
        "id": "4SMBbG19XpCy"
      },
      "source": [
        "# 勾配値の初期化\n",
        "optimizer.zero_grad()\n",
        "\n",
        "# 勾配値がすべてゼロになっている\n",
        "print(net.l1.weight.grad)\n",
        "print(net.l1.bias.grad)"
      ],
      "execution_count": null,
      "outputs": []
    },
    {
      "cell_type": "markdown",
      "metadata": {
        "id": "qGe0W7syXpCy"
      },
      "source": [
        "### 繰り返し計算"
      ]
    },
    {
      "cell_type": "code",
      "metadata": {
        "id": "s6sIrMqiXpCy"
      },
      "source": [
        "# 学習率\n",
        "lr = 0.01\n",
        "\n",
        "# インスタンス生成　(パラメータ値初期化)\n",
        "net = Net(n_input, n_output)\n",
        "\n",
        "# 損失関数： 平均2乗誤差\n",
        "criterion = nn.MSELoss()\n",
        "\n",
        "# 最適化関数: 勾配降下法\n",
        "optimizer = optim.SGD(net.parameters(), lr=lr)\n",
        "\n",
        "# 繰り返し回数\n",
        "num_epochs = 50000\n",
        "\n",
        "# 評価結果記録用 (損失関数値のみ記録)\n",
        "history = np.zeros((0,2))"
      ],
      "execution_count": null,
      "outputs": []
    },
    {
      "cell_type": "code",
      "metadata": {
        "id": "7Db7l67DeT9-",
        "scrolled": false
      },
      "source": [
        "# 繰り返し計算メインループ\n",
        "\n",
        "for epoch in range(num_epochs):\n",
        "    \n",
        "    # 勾配値初期化\n",
        "    optimizer.zero_grad()\n",
        "\n",
        "    # 予測計算\n",
        "    outputs = net(inputs)\n",
        "  \n",
        "    # 損失計算\n",
        "    # 「ディープラーニングの数学」に合わせて2で割った値を損失とした\n",
        "    loss = criterion(outputs, labels1) / 2.0\n",
        "\n",
        "    # 勾配計算\n",
        "    loss.backward()\n",
        "\n",
        "    # パラメータ修正\n",
        "    optimizer.step()\n",
        "\n",
        "    # 100回ごとに途中経過を記録する\n",
        "    if ( epoch % 100 == 0):\n",
        "        history = np.vstack((history, np.array([epoch, loss.item()])))\n",
        "        print(f'Epoch {epoch} loss: {loss.item():.5f}')"
      ],
      "execution_count": null,
      "outputs": []
    },
    {
      "cell_type": "markdown",
      "metadata": {
        "id": "UNDxax-lXpC2"
      },
      "source": [
        "## 5.9 結果確認"
      ]
    },
    {
      "cell_type": "code",
      "metadata": {
        "id": "kWRH7ExmjB8B"
      },
      "source": [
        "# 損失初期値と最終値\n",
        "\n",
        "print(f'損失初期値: {history[0,1]:.5f}')\n",
        "print(f'損失最終値: {history[-1,1]:.5f}')"
      ],
      "execution_count": null,
      "outputs": []
    },
    {
      "cell_type": "code",
      "metadata": {
        "id": "LUh7GLCSfQNJ"
      },
      "source": [
        "\n",
        "# 学習曲線の表示 (損失) \n",
        "# 最初の1つを除く\n",
        "\n",
        "plt.plot(history[1:,0], history[1:,1], 'b')\n",
        "plt.xlabel('繰り返し回数')\n",
        "plt.ylabel('損失')\n",
        "plt.title('学習曲線(損失)')\n",
        "plt.show()"
      ],
      "execution_count": null,
      "outputs": []
    },
    {
      "cell_type": "code",
      "metadata": {
        "id": "SboqNthnmTKf"
      },
      "source": [
        "# 回帰直線の算出\n",
        "\n",
        "# xの最小値、最大値\n",
        "xse = np.array((x.min(), x.max())).reshape(-1,1)\n",
        "Xse = torch.tensor(xse).float()\n",
        "\n",
        "with torch.no_grad():\n",
        "  Yse = net(Xse)\n",
        "\n",
        "print(Yse.numpy())"
      ],
      "execution_count": null,
      "outputs": []
    },
    {
      "cell_type": "code",
      "metadata": {
        "id": "JNynfK4pngwe"
      },
      "source": [
        "# 散布図と回帰直線の描画\n",
        "\n",
        "plt.scatter(x, yt, s=10, c='b')\n",
        "plt.xlabel('部屋数')\n",
        "plt.ylabel('価格')\n",
        "plt.plot(Xse.data, Yse.data, c='k')\n",
        "plt.title('散布図と回帰直線')\n",
        "plt.show()"
      ],
      "execution_count": null,
      "outputs": []
    },
    {
      "cell_type": "markdown",
      "metadata": {
        "id": "qwGTzOJbr8Hs"
      },
      "source": [
        "## 5.10 重回帰モデルへの拡張"
      ]
    },
    {
      "cell_type": "code",
      "metadata": {
        "id": "8gAZgC1GpjEV"
      },
      "source": [
        "# 列(LSTAT: 低所得者率)の追加\n",
        "\n",
        "x_add = x_org[:,feature_names == 'LSTAT']\n",
        "x2 = np.hstack((x, x_add))\n",
        "\n",
        "# shapeの表示\n",
        "print(x2.shape)\n",
        "\n",
        "# 入力データxの表示\n",
        "print(x2[:5,:])"
      ],
      "execution_count": null,
      "outputs": []
    },
    {
      "cell_type": "code",
      "metadata": {
        "id": "z99b-YPvsM5_"
      },
      "source": [
        "# 今度は入力次元数=2\n",
        "\n",
        "n_input = x2.shape[1]\n",
        "print(n_input)\n",
        "\n",
        "# モデルインスタンスの生成\n",
        "net = Net(n_input, n_output)"
      ],
      "execution_count": null,
      "outputs": []
    },
    {
      "cell_type": "code",
      "metadata": {
        "id": "tvTwYb-gXpC5"
      },
      "source": [
        "# モデル内のパラメータの確認\n",
        "# predict.weight が2次元に変わった\n",
        "\n",
        "for parameter in net.named_parameters():\n",
        "    print(f'変数名: {parameter[0]}')\n",
        "    print(f'変数値: {parameter[1].data}')"
      ],
      "execution_count": null,
      "outputs": []
    },
    {
      "cell_type": "code",
      "metadata": {
        "id": "5iBFb2A9s2K1"
      },
      "source": [
        "# モデルの概要表示\n",
        "\n",
        "print(net)"
      ],
      "execution_count": null,
      "outputs": []
    },
    {
      "cell_type": "code",
      "metadata": {
        "id": "jwdT12mss60n"
      },
      "source": [
        "# モデルのサマリー表示\n",
        "\n",
        "from torchinfo import summary\n",
        "summary(net, (2,))"
      ],
      "execution_count": null,
      "outputs": []
    },
    {
      "cell_type": "code",
      "metadata": {
        "id": "U3xw_jxTXpC5"
      },
      "source": [
        "# 入力変数x2 のテンソル変数化 \n",
        "# labels, labels1は前のものをそのまま利用\n",
        "\n",
        "inputs = torch.tensor(x2).float()"
      ],
      "execution_count": null,
      "outputs": []
    },
    {
      "cell_type": "markdown",
      "metadata": {
        "id": "dGB9wkr-XpC6"
      },
      "source": [
        "### くり返し計算"
      ]
    },
    {
      "cell_type": "code",
      "metadata": {
        "id": "8cyjWATHXpC6"
      },
      "source": [
        "# 初期化処理\n",
        "\n",
        "# 学習率\n",
        "lr = 0.01\n",
        "\n",
        "# インスタンス生成　(パラメータ値初期化)\n",
        "net = Net(n_input, n_output)\n",
        "\n",
        "# 損失関数： 平均2乗誤差\n",
        "criterion = nn.MSELoss()\n",
        "\n",
        "# 最適化関数: 勾配降下法\n",
        "optimizer = optim.SGD(net.parameters(), lr=lr)\n",
        "\n",
        "# 繰り返し回数\n",
        "num_epochs = 50000\n",
        "\n",
        "# 評価結果記録用 (損失関数値のみ記録)\n",
        "history = np.zeros((0,2))"
      ],
      "execution_count": null,
      "outputs": []
    },
    {
      "cell_type": "code",
      "metadata": {
        "id": "7rEh-tPpXpC6"
      },
      "source": [
        "# 繰り返し計算メインループ\n",
        "\n",
        "for epoch in range(num_epochs):\n",
        "    \n",
        "    # 勾配値初期化\n",
        "    optimizer.zero_grad()\n",
        "\n",
        "    # 予測計算\n",
        "    outputs = net(inputs)\n",
        "  \n",
        "    # 誤差計算\n",
        "    # 「ディープラーニングの数学」に合わせて2で割った値を損失とした\n",
        "    loss = criterion(outputs, labels1) / 2.0\n",
        "\n",
        "    # 勾配計算\n",
        "    loss.backward()\n",
        "\n",
        "    # パラメータ修正\n",
        "    optimizer.step()\n",
        "\n",
        "    # 100回ごとに途中経過を記録する\n",
        "    if ( epoch % 100 == 0):\n",
        "        history = np.vstack((history, np.array([epoch, loss.item()])))\n",
        "        print(f'Epoch {epoch} loss: {loss.item():.5f}')"
      ],
      "execution_count": null,
      "outputs": []
    },
    {
      "cell_type": "markdown",
      "metadata": {
        "id": "_SvyW5S2XpC6"
      },
      "source": [
        "## 5.11 学習率の変更"
      ]
    },
    {
      "cell_type": "code",
      "metadata": {
        "id": "wt92VISFtaLj"
      },
      "source": [
        "# 繰り返し回数\n",
        "#num_epochs = 50000\n",
        "num_epochs = 2000\n",
        "\n",
        "# 学習率\n",
        "#l r = 0.01\n",
        "lr = 0.001\n",
        "\n",
        "# モデルインスタンスの生成\n",
        "net = Net(n_input, n_output)\n",
        "\n",
        "# 損失関数： 平均2乗誤差\n",
        "criterion = nn.MSELoss()\n",
        "\n",
        "# 最適化関数: 勾配降下法\n",
        "optimizer = optim.SGD(net.parameters(), lr=lr)"
      ],
      "execution_count": null,
      "outputs": []
    },
    {
      "cell_type": "code",
      "metadata": {
        "id": "tlAkM8K5t4XV"
      },
      "source": [
        "# 繰り返し計算メインループ\n",
        "\n",
        "# 評価結果記録用 (損失関数値のみ記録)\n",
        "history = np.zeros((0,2))\n",
        "\n",
        "for epoch in range(num_epochs):\n",
        "    \n",
        "    # 勾配値初期化\n",
        "    optimizer.zero_grad()\n",
        "\n",
        "    # 予測計算\n",
        "    outputs = net(inputs)\n",
        "  \n",
        "    # 誤差計算\n",
        "    loss = criterion(outputs, labels1) / 2.0\n",
        "\n",
        "    #勾配計算\n",
        "    loss.backward()\n",
        "\n",
        "    # パラメータ修正\n",
        "    optimizer.step()\n",
        "\n",
        "    # 100回ごとに途中経過を記録する\n",
        "    if ( epoch % 100 == 0):\n",
        "        history = np.vstack((history, np.array([epoch, loss.item()])))\n",
        "        print(f'Epoch {epoch} loss: {loss.item():.5f}')"
      ],
      "execution_count": null,
      "outputs": []
    },
    {
      "cell_type": "code",
      "metadata": {
        "id": "Y4UHX9Ast8Je"
      },
      "source": [
        "# 損失初期値、最終値\n",
        "\n",
        "print(f'損失初期値: {history[0,1]:.5f}')\n",
        "print(f'損失最終値: {history[-1,1]:.5f}')"
      ],
      "execution_count": null,
      "outputs": []
    },
    {
      "cell_type": "code",
      "metadata": {
        "id": "hYPtlO6wuCoy",
        "scrolled": false
      },
      "source": [
        "# 学習曲線の表示 (損失)\n",
        "\n",
        "plt.plot(history[:,0], history[:,1], 'b')\n",
        "plt.xlabel('繰り返し回数')\n",
        "plt.ylabel('損失')\n",
        "plt.title('学習曲線(損失)')\n",
        "plt.show()"
      ],
      "execution_count": null,
      "outputs": []
    },
    {
      "cell_type": "code",
      "metadata": {
        "id": "j-CVGgMlXpC8"
      },
      "source": [
        ""
      ],
      "execution_count": null,
      "outputs": []
    }
  ]
}